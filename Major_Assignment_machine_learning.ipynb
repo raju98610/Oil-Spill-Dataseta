{
  "nbformat": 4,
  "nbformat_minor": 0,
  "metadata": {
    "colab": {
      "provenance": [],
      "authorship_tag": "ABX9TyNnq7/9bv8DlGaVatfh7e7t",
      "include_colab_link": true
    },
    "kernelspec": {
      "name": "python3",
      "display_name": "Python 3"
    },
    "language_info": {
      "name": "python"
    }
  },
  "cells": [
    {
      "cell_type": "markdown",
      "metadata": {
        "id": "view-in-github",
        "colab_type": "text"
      },
      "source": [
        "<a href=\"https://colab.research.google.com/github/raju98610/Oil-Spill-Dataseta/blob/main/Major_Assignment_machine_learning.ipynb\" target=\"_parent\"><img src=\"https://colab.research.google.com/assets/colab-badge.svg\" alt=\"Open In Colab\"/></a>"
      ]
    },
    {
      "cell_type": "code",
      "execution_count": null,
      "metadata": {
        "id": "6ovxDynwMmIp"
      },
      "outputs": [],
      "source": [
        "import pandas as pd\n",
        "# pandas is aliased as pd\n",
        "import numpy as np\n",
        "# numpy is aliased as np\n",
        "import matplotlib.pyplot as plt\n",
        "# pyplot is aliased as plt\n",
        "import warnings\n",
        "warnings.simplefilter('ignore')"
      ]
    },
    {
      "cell_type": "code",
      "source": [
        "oil_spill_dataset = pd.read_csv(\"oil_spill.csv\")\n",
        "oil_spill_dataset"
      ],
      "metadata": {
        "colab": {
          "base_uri": "https://localhost:8080/",
          "height": 423
        },
        "id": "2BsAyuHONpPn",
        "outputId": "e3b88df9-0fa2-4269-a3e6-61e3e51d2a7e"
      },
      "execution_count": null,
      "outputs": [
        {
          "output_type": "execute_result",
          "data": {
            "text/plain": [
              "     f_1    f_2      f_3     f_4  f_5       f_6    f_7    f_8      f_9  f_10  \\\n",
              "0      1   2558  1506.09  456.63   90   6395000  40.88   7.89  29780.0  0.19   \n",
              "1      2  22325    79.11  841.03  180  55812500  51.11   1.21  61900.0  0.02   \n",
              "2      3    115  1449.85  608.43   88    287500  40.42   7.34   3340.0  0.18   \n",
              "3      4   1201  1562.53  295.65   66   3002500  42.40   7.97  18030.0  0.19   \n",
              "4      5    312   950.27  440.86   37    780000  41.43   7.03   3350.0  0.17   \n",
              "..   ...    ...      ...     ...  ...       ...    ...    ...      ...   ...   \n",
              "932  200     12    92.42  364.42  135     97200  59.42  10.34    884.0  0.17   \n",
              "933  201     11    98.82  248.64  159     89100  59.64  10.18    831.0  0.17   \n",
              "934  202     14    25.14  428.86   24    113400  60.14  17.94    847.0  0.30   \n",
              "935  203     10    96.00  451.30   68     81000  59.90  15.01    831.0  0.25   \n",
              "936  204     11     7.73  235.73  135     89100  61.82  12.24    831.0  0.20   \n",
              "\n",
              "     ...     f_41      f_42     f_43     f_44   f_45  f_46      f_47   f_48  \\\n",
              "0    ...  2850.00   1000.00   763.16   135.46   3.73     0  33243.19  65.74   \n",
              "1    ...  5750.00  11500.00  9593.48  1648.80   0.60     0  51572.04  65.73   \n",
              "2    ...  1400.00    250.00   150.00    45.13   9.33     1  31692.84  65.81   \n",
              "3    ...  6041.52    761.58   453.21   144.97  13.33     1  37696.21  65.67   \n",
              "4    ...  1320.04    710.63   512.54   109.16   2.58     0  29038.17  65.66   \n",
              "..   ...      ...       ...      ...      ...    ...   ...       ...    ...   \n",
              "932  ...   381.84    254.56    84.85   146.97   4.50     0   2593.50  65.85   \n",
              "933  ...   284.60    180.00   150.00    51.96   1.90     0   4361.25  65.70   \n",
              "934  ...   402.49    180.00   180.00     0.00   2.24     0   2153.05  65.91   \n",
              "935  ...   402.49    180.00    90.00    73.48   4.47     0   2421.43  65.97   \n",
              "936  ...   254.56    254.56   127.28   180.00   2.00     0   3782.68  65.65   \n",
              "\n",
              "     f_49  target  \n",
              "0    7.95       1  \n",
              "1    6.26       0  \n",
              "2    7.84       1  \n",
              "3    8.07       1  \n",
              "4    7.35       0  \n",
              "..    ...     ...  \n",
              "932  6.39       0  \n",
              "933  6.53       0  \n",
              "934  6.12       0  \n",
              "935  6.32       0  \n",
              "936  6.26       0  \n",
              "\n",
              "[937 rows x 50 columns]"
            ],
            "text/html": [
              "\n",
              "  <div id=\"df-7ebd84f3-e4c8-454b-bed5-c3f9170b60d8\">\n",
              "    <div class=\"colab-df-container\">\n",
              "      <div>\n",
              "<style scoped>\n",
              "    .dataframe tbody tr th:only-of-type {\n",
              "        vertical-align: middle;\n",
              "    }\n",
              "\n",
              "    .dataframe tbody tr th {\n",
              "        vertical-align: top;\n",
              "    }\n",
              "\n",
              "    .dataframe thead th {\n",
              "        text-align: right;\n",
              "    }\n",
              "</style>\n",
              "<table border=\"1\" class=\"dataframe\">\n",
              "  <thead>\n",
              "    <tr style=\"text-align: right;\">\n",
              "      <th></th>\n",
              "      <th>f_1</th>\n",
              "      <th>f_2</th>\n",
              "      <th>f_3</th>\n",
              "      <th>f_4</th>\n",
              "      <th>f_5</th>\n",
              "      <th>f_6</th>\n",
              "      <th>f_7</th>\n",
              "      <th>f_8</th>\n",
              "      <th>f_9</th>\n",
              "      <th>f_10</th>\n",
              "      <th>...</th>\n",
              "      <th>f_41</th>\n",
              "      <th>f_42</th>\n",
              "      <th>f_43</th>\n",
              "      <th>f_44</th>\n",
              "      <th>f_45</th>\n",
              "      <th>f_46</th>\n",
              "      <th>f_47</th>\n",
              "      <th>f_48</th>\n",
              "      <th>f_49</th>\n",
              "      <th>target</th>\n",
              "    </tr>\n",
              "  </thead>\n",
              "  <tbody>\n",
              "    <tr>\n",
              "      <th>0</th>\n",
              "      <td>1</td>\n",
              "      <td>2558</td>\n",
              "      <td>1506.09</td>\n",
              "      <td>456.63</td>\n",
              "      <td>90</td>\n",
              "      <td>6395000</td>\n",
              "      <td>40.88</td>\n",
              "      <td>7.89</td>\n",
              "      <td>29780.0</td>\n",
              "      <td>0.19</td>\n",
              "      <td>...</td>\n",
              "      <td>2850.00</td>\n",
              "      <td>1000.00</td>\n",
              "      <td>763.16</td>\n",
              "      <td>135.46</td>\n",
              "      <td>3.73</td>\n",
              "      <td>0</td>\n",
              "      <td>33243.19</td>\n",
              "      <td>65.74</td>\n",
              "      <td>7.95</td>\n",
              "      <td>1</td>\n",
              "    </tr>\n",
              "    <tr>\n",
              "      <th>1</th>\n",
              "      <td>2</td>\n",
              "      <td>22325</td>\n",
              "      <td>79.11</td>\n",
              "      <td>841.03</td>\n",
              "      <td>180</td>\n",
              "      <td>55812500</td>\n",
              "      <td>51.11</td>\n",
              "      <td>1.21</td>\n",
              "      <td>61900.0</td>\n",
              "      <td>0.02</td>\n",
              "      <td>...</td>\n",
              "      <td>5750.00</td>\n",
              "      <td>11500.00</td>\n",
              "      <td>9593.48</td>\n",
              "      <td>1648.80</td>\n",
              "      <td>0.60</td>\n",
              "      <td>0</td>\n",
              "      <td>51572.04</td>\n",
              "      <td>65.73</td>\n",
              "      <td>6.26</td>\n",
              "      <td>0</td>\n",
              "    </tr>\n",
              "    <tr>\n",
              "      <th>2</th>\n",
              "      <td>3</td>\n",
              "      <td>115</td>\n",
              "      <td>1449.85</td>\n",
              "      <td>608.43</td>\n",
              "      <td>88</td>\n",
              "      <td>287500</td>\n",
              "      <td>40.42</td>\n",
              "      <td>7.34</td>\n",
              "      <td>3340.0</td>\n",
              "      <td>0.18</td>\n",
              "      <td>...</td>\n",
              "      <td>1400.00</td>\n",
              "      <td>250.00</td>\n",
              "      <td>150.00</td>\n",
              "      <td>45.13</td>\n",
              "      <td>9.33</td>\n",
              "      <td>1</td>\n",
              "      <td>31692.84</td>\n",
              "      <td>65.81</td>\n",
              "      <td>7.84</td>\n",
              "      <td>1</td>\n",
              "    </tr>\n",
              "    <tr>\n",
              "      <th>3</th>\n",
              "      <td>4</td>\n",
              "      <td>1201</td>\n",
              "      <td>1562.53</td>\n",
              "      <td>295.65</td>\n",
              "      <td>66</td>\n",
              "      <td>3002500</td>\n",
              "      <td>42.40</td>\n",
              "      <td>7.97</td>\n",
              "      <td>18030.0</td>\n",
              "      <td>0.19</td>\n",
              "      <td>...</td>\n",
              "      <td>6041.52</td>\n",
              "      <td>761.58</td>\n",
              "      <td>453.21</td>\n",
              "      <td>144.97</td>\n",
              "      <td>13.33</td>\n",
              "      <td>1</td>\n",
              "      <td>37696.21</td>\n",
              "      <td>65.67</td>\n",
              "      <td>8.07</td>\n",
              "      <td>1</td>\n",
              "    </tr>\n",
              "    <tr>\n",
              "      <th>4</th>\n",
              "      <td>5</td>\n",
              "      <td>312</td>\n",
              "      <td>950.27</td>\n",
              "      <td>440.86</td>\n",
              "      <td>37</td>\n",
              "      <td>780000</td>\n",
              "      <td>41.43</td>\n",
              "      <td>7.03</td>\n",
              "      <td>3350.0</td>\n",
              "      <td>0.17</td>\n",
              "      <td>...</td>\n",
              "      <td>1320.04</td>\n",
              "      <td>710.63</td>\n",
              "      <td>512.54</td>\n",
              "      <td>109.16</td>\n",
              "      <td>2.58</td>\n",
              "      <td>0</td>\n",
              "      <td>29038.17</td>\n",
              "      <td>65.66</td>\n",
              "      <td>7.35</td>\n",
              "      <td>0</td>\n",
              "    </tr>\n",
              "    <tr>\n",
              "      <th>...</th>\n",
              "      <td>...</td>\n",
              "      <td>...</td>\n",
              "      <td>...</td>\n",
              "      <td>...</td>\n",
              "      <td>...</td>\n",
              "      <td>...</td>\n",
              "      <td>...</td>\n",
              "      <td>...</td>\n",
              "      <td>...</td>\n",
              "      <td>...</td>\n",
              "      <td>...</td>\n",
              "      <td>...</td>\n",
              "      <td>...</td>\n",
              "      <td>...</td>\n",
              "      <td>...</td>\n",
              "      <td>...</td>\n",
              "      <td>...</td>\n",
              "      <td>...</td>\n",
              "      <td>...</td>\n",
              "      <td>...</td>\n",
              "      <td>...</td>\n",
              "    </tr>\n",
              "    <tr>\n",
              "      <th>932</th>\n",
              "      <td>200</td>\n",
              "      <td>12</td>\n",
              "      <td>92.42</td>\n",
              "      <td>364.42</td>\n",
              "      <td>135</td>\n",
              "      <td>97200</td>\n",
              "      <td>59.42</td>\n",
              "      <td>10.34</td>\n",
              "      <td>884.0</td>\n",
              "      <td>0.17</td>\n",
              "      <td>...</td>\n",
              "      <td>381.84</td>\n",
              "      <td>254.56</td>\n",
              "      <td>84.85</td>\n",
              "      <td>146.97</td>\n",
              "      <td>4.50</td>\n",
              "      <td>0</td>\n",
              "      <td>2593.50</td>\n",
              "      <td>65.85</td>\n",
              "      <td>6.39</td>\n",
              "      <td>0</td>\n",
              "    </tr>\n",
              "    <tr>\n",
              "      <th>933</th>\n",
              "      <td>201</td>\n",
              "      <td>11</td>\n",
              "      <td>98.82</td>\n",
              "      <td>248.64</td>\n",
              "      <td>159</td>\n",
              "      <td>89100</td>\n",
              "      <td>59.64</td>\n",
              "      <td>10.18</td>\n",
              "      <td>831.0</td>\n",
              "      <td>0.17</td>\n",
              "      <td>...</td>\n",
              "      <td>284.60</td>\n",
              "      <td>180.00</td>\n",
              "      <td>150.00</td>\n",
              "      <td>51.96</td>\n",
              "      <td>1.90</td>\n",
              "      <td>0</td>\n",
              "      <td>4361.25</td>\n",
              "      <td>65.70</td>\n",
              "      <td>6.53</td>\n",
              "      <td>0</td>\n",
              "    </tr>\n",
              "    <tr>\n",
              "      <th>934</th>\n",
              "      <td>202</td>\n",
              "      <td>14</td>\n",
              "      <td>25.14</td>\n",
              "      <td>428.86</td>\n",
              "      <td>24</td>\n",
              "      <td>113400</td>\n",
              "      <td>60.14</td>\n",
              "      <td>17.94</td>\n",
              "      <td>847.0</td>\n",
              "      <td>0.30</td>\n",
              "      <td>...</td>\n",
              "      <td>402.49</td>\n",
              "      <td>180.00</td>\n",
              "      <td>180.00</td>\n",
              "      <td>0.00</td>\n",
              "      <td>2.24</td>\n",
              "      <td>0</td>\n",
              "      <td>2153.05</td>\n",
              "      <td>65.91</td>\n",
              "      <td>6.12</td>\n",
              "      <td>0</td>\n",
              "    </tr>\n",
              "    <tr>\n",
              "      <th>935</th>\n",
              "      <td>203</td>\n",
              "      <td>10</td>\n",
              "      <td>96.00</td>\n",
              "      <td>451.30</td>\n",
              "      <td>68</td>\n",
              "      <td>81000</td>\n",
              "      <td>59.90</td>\n",
              "      <td>15.01</td>\n",
              "      <td>831.0</td>\n",
              "      <td>0.25</td>\n",
              "      <td>...</td>\n",
              "      <td>402.49</td>\n",
              "      <td>180.00</td>\n",
              "      <td>90.00</td>\n",
              "      <td>73.48</td>\n",
              "      <td>4.47</td>\n",
              "      <td>0</td>\n",
              "      <td>2421.43</td>\n",
              "      <td>65.97</td>\n",
              "      <td>6.32</td>\n",
              "      <td>0</td>\n",
              "    </tr>\n",
              "    <tr>\n",
              "      <th>936</th>\n",
              "      <td>204</td>\n",
              "      <td>11</td>\n",
              "      <td>7.73</td>\n",
              "      <td>235.73</td>\n",
              "      <td>135</td>\n",
              "      <td>89100</td>\n",
              "      <td>61.82</td>\n",
              "      <td>12.24</td>\n",
              "      <td>831.0</td>\n",
              "      <td>0.20</td>\n",
              "      <td>...</td>\n",
              "      <td>254.56</td>\n",
              "      <td>254.56</td>\n",
              "      <td>127.28</td>\n",
              "      <td>180.00</td>\n",
              "      <td>2.00</td>\n",
              "      <td>0</td>\n",
              "      <td>3782.68</td>\n",
              "      <td>65.65</td>\n",
              "      <td>6.26</td>\n",
              "      <td>0</td>\n",
              "    </tr>\n",
              "  </tbody>\n",
              "</table>\n",
              "<p>937 rows × 50 columns</p>\n",
              "</div>\n",
              "      <button class=\"colab-df-convert\" onclick=\"convertToInteractive('df-7ebd84f3-e4c8-454b-bed5-c3f9170b60d8')\"\n",
              "              title=\"Convert this dataframe to an interactive table.\"\n",
              "              style=\"display:none;\">\n",
              "        \n",
              "  <svg xmlns=\"http://www.w3.org/2000/svg\" height=\"24px\"viewBox=\"0 0 24 24\"\n",
              "       width=\"24px\">\n",
              "    <path d=\"M0 0h24v24H0V0z\" fill=\"none\"/>\n",
              "    <path d=\"M18.56 5.44l.94 2.06.94-2.06 2.06-.94-2.06-.94-.94-2.06-.94 2.06-2.06.94zm-11 1L8.5 8.5l.94-2.06 2.06-.94-2.06-.94L8.5 2.5l-.94 2.06-2.06.94zm10 10l.94 2.06.94-2.06 2.06-.94-2.06-.94-.94-2.06-.94 2.06-2.06.94z\"/><path d=\"M17.41 7.96l-1.37-1.37c-.4-.4-.92-.59-1.43-.59-.52 0-1.04.2-1.43.59L10.3 9.45l-7.72 7.72c-.78.78-.78 2.05 0 2.83L4 21.41c.39.39.9.59 1.41.59.51 0 1.02-.2 1.41-.59l7.78-7.78 2.81-2.81c.8-.78.8-2.07 0-2.86zM5.41 20L4 18.59l7.72-7.72 1.47 1.35L5.41 20z\"/>\n",
              "  </svg>\n",
              "      </button>\n",
              "      \n",
              "  <style>\n",
              "    .colab-df-container {\n",
              "      display:flex;\n",
              "      flex-wrap:wrap;\n",
              "      gap: 12px;\n",
              "    }\n",
              "\n",
              "    .colab-df-convert {\n",
              "      background-color: #E8F0FE;\n",
              "      border: none;\n",
              "      border-radius: 50%;\n",
              "      cursor: pointer;\n",
              "      display: none;\n",
              "      fill: #1967D2;\n",
              "      height: 32px;\n",
              "      padding: 0 0 0 0;\n",
              "      width: 32px;\n",
              "    }\n",
              "\n",
              "    .colab-df-convert:hover {\n",
              "      background-color: #E2EBFA;\n",
              "      box-shadow: 0px 1px 2px rgba(60, 64, 67, 0.3), 0px 1px 3px 1px rgba(60, 64, 67, 0.15);\n",
              "      fill: #174EA6;\n",
              "    }\n",
              "\n",
              "    [theme=dark] .colab-df-convert {\n",
              "      background-color: #3B4455;\n",
              "      fill: #D2E3FC;\n",
              "    }\n",
              "\n",
              "    [theme=dark] .colab-df-convert:hover {\n",
              "      background-color: #434B5C;\n",
              "      box-shadow: 0px 1px 3px 1px rgba(0, 0, 0, 0.15);\n",
              "      filter: drop-shadow(0px 1px 2px rgba(0, 0, 0, 0.3));\n",
              "      fill: #FFFFFF;\n",
              "    }\n",
              "  </style>\n",
              "\n",
              "      <script>\n",
              "        const buttonEl =\n",
              "          document.querySelector('#df-7ebd84f3-e4c8-454b-bed5-c3f9170b60d8 button.colab-df-convert');\n",
              "        buttonEl.style.display =\n",
              "          google.colab.kernel.accessAllowed ? 'block' : 'none';\n",
              "\n",
              "        async function convertToInteractive(key) {\n",
              "          const element = document.querySelector('#df-7ebd84f3-e4c8-454b-bed5-c3f9170b60d8');\n",
              "          const dataTable =\n",
              "            await google.colab.kernel.invokeFunction('convertToInteractive',\n",
              "                                                     [key], {});\n",
              "          if (!dataTable) return;\n",
              "\n",
              "          const docLinkHtml = 'Like what you see? Visit the ' +\n",
              "            '<a target=\"_blank\" href=https://colab.research.google.com/notebooks/data_table.ipynb>data table notebook</a>'\n",
              "            + ' to learn more about interactive tables.';\n",
              "          element.innerHTML = '';\n",
              "          dataTable['output_type'] = 'display_data';\n",
              "          await google.colab.output.renderOutput(dataTable, element);\n",
              "          const docLink = document.createElement('div');\n",
              "          docLink.innerHTML = docLinkHtml;\n",
              "          element.appendChild(docLink);\n",
              "        }\n",
              "      </script>\n",
              "    </div>\n",
              "  </div>\n",
              "  "
            ]
          },
          "metadata": {},
          "execution_count": 52
        }
      ]
    },
    {
      "cell_type": "code",
      "source": [
        "oil_spill_dataset.shape\n",
        "# rows=937 ,columns = 50"
      ],
      "metadata": {
        "colab": {
          "base_uri": "https://localhost:8080/"
        },
        "id": "pdHdM_fCN5Ca",
        "outputId": "5ae1d1d9-e2a9-4a10-ddca-c7fa99a88591"
      },
      "execution_count": null,
      "outputs": [
        {
          "output_type": "execute_result",
          "data": {
            "text/plain": [
              "(937, 50)"
            ]
          },
          "metadata": {},
          "execution_count": 53
        }
      ]
    },
    {
      "cell_type": "code",
      "source": [
        "oil_spill_dataset.columns"
      ],
      "metadata": {
        "colab": {
          "base_uri": "https://localhost:8080/"
        },
        "id": "wlZKnmmUOI-0",
        "outputId": "d877fa9d-99d7-4322-cc95-2506beb04d3b"
      },
      "execution_count": null,
      "outputs": [
        {
          "output_type": "execute_result",
          "data": {
            "text/plain": [
              "Index(['f_1', 'f_2', 'f_3', 'f_4', 'f_5', 'f_6', 'f_7', 'f_8', 'f_9', 'f_10',\n",
              "       'f_11', 'f_12', 'f_13', 'f_14', 'f_15', 'f_16', 'f_17', 'f_18', 'f_19',\n",
              "       'f_20', 'f_21', 'f_22', 'f_23', 'f_24', 'f_25', 'f_26', 'f_27', 'f_28',\n",
              "       'f_29', 'f_30', 'f_31', 'f_32', 'f_33', 'f_34', 'f_35', 'f_36', 'f_37',\n",
              "       'f_38', 'f_39', 'f_40', 'f_41', 'f_42', 'f_43', 'f_44', 'f_45', 'f_46',\n",
              "       'f_47', 'f_48', 'f_49', 'target'],\n",
              "      dtype='object')"
            ]
          },
          "metadata": {},
          "execution_count": 54
        }
      ]
    },
    {
      "cell_type": "code",
      "source": [
        "oil_spill_dataset.dtypes\n"
      ],
      "metadata": {
        "colab": {
          "base_uri": "https://localhost:8080/"
        },
        "id": "OBvLVlwbOK_H",
        "outputId": "4cd671bd-7e90-4089-db0f-a6a6c7ae5f6a"
      },
      "execution_count": null,
      "outputs": [
        {
          "output_type": "execute_result",
          "data": {
            "text/plain": [
              "f_1         int64\n",
              "f_2         int64\n",
              "f_3       float64\n",
              "f_4       float64\n",
              "f_5         int64\n",
              "f_6         int64\n",
              "f_7       float64\n",
              "f_8       float64\n",
              "f_9       float64\n",
              "f_10      float64\n",
              "f_11      float64\n",
              "f_12      float64\n",
              "f_13      float64\n",
              "f_14      float64\n",
              "f_15      float64\n",
              "f_16      float64\n",
              "f_17      float64\n",
              "f_18      float64\n",
              "f_19      float64\n",
              "f_20      float64\n",
              "f_21      float64\n",
              "f_22      float64\n",
              "f_23        int64\n",
              "f_24      float64\n",
              "f_25      float64\n",
              "f_26      float64\n",
              "f_27      float64\n",
              "f_28      float64\n",
              "f_29      float64\n",
              "f_30      float64\n",
              "f_31      float64\n",
              "f_32      float64\n",
              "f_33      float64\n",
              "f_34      float64\n",
              "f_35        int64\n",
              "f_36        int64\n",
              "f_37      float64\n",
              "f_38      float64\n",
              "f_39        int64\n",
              "f_40        int64\n",
              "f_41      float64\n",
              "f_42      float64\n",
              "f_43      float64\n",
              "f_44      float64\n",
              "f_45      float64\n",
              "f_46        int64\n",
              "f_47      float64\n",
              "f_48      float64\n",
              "f_49      float64\n",
              "target      int64\n",
              "dtype: object"
            ]
          },
          "metadata": {},
          "execution_count": 55
        }
      ]
    },
    {
      "cell_type": "code",
      "source": [
        "oil_spill_dataset.duplicated().sum()"
      ],
      "metadata": {
        "colab": {
          "base_uri": "https://localhost:8080/"
        },
        "id": "wSzk2E2_OTRe",
        "outputId": "3098ce97-6b47-4acc-998e-0228730ff1b6"
      },
      "execution_count": null,
      "outputs": [
        {
          "output_type": "execute_result",
          "data": {
            "text/plain": [
              "0"
            ]
          },
          "metadata": {},
          "execution_count": 56
        }
      ]
    },
    {
      "cell_type": "code",
      "source": [
        "oil_spill_dataset.info()"
      ],
      "metadata": {
        "colab": {
          "base_uri": "https://localhost:8080/"
        },
        "id": "hZ5SxM2BOeT7",
        "outputId": "80e98c35-1ca8-413e-eee9-7a7d3fedb0c0"
      },
      "execution_count": null,
      "outputs": [
        {
          "output_type": "stream",
          "name": "stdout",
          "text": [
            "<class 'pandas.core.frame.DataFrame'>\n",
            "RangeIndex: 937 entries, 0 to 936\n",
            "Data columns (total 50 columns):\n",
            " #   Column  Non-Null Count  Dtype  \n",
            "---  ------  --------------  -----  \n",
            " 0   f_1     937 non-null    int64  \n",
            " 1   f_2     937 non-null    int64  \n",
            " 2   f_3     937 non-null    float64\n",
            " 3   f_4     937 non-null    float64\n",
            " 4   f_5     937 non-null    int64  \n",
            " 5   f_6     937 non-null    int64  \n",
            " 6   f_7     937 non-null    float64\n",
            " 7   f_8     937 non-null    float64\n",
            " 8   f_9     937 non-null    float64\n",
            " 9   f_10    937 non-null    float64\n",
            " 10  f_11    937 non-null    float64\n",
            " 11  f_12    937 non-null    float64\n",
            " 12  f_13    937 non-null    float64\n",
            " 13  f_14    937 non-null    float64\n",
            " 14  f_15    937 non-null    float64\n",
            " 15  f_16    937 non-null    float64\n",
            " 16  f_17    937 non-null    float64\n",
            " 17  f_18    937 non-null    float64\n",
            " 18  f_19    937 non-null    float64\n",
            " 19  f_20    937 non-null    float64\n",
            " 20  f_21    937 non-null    float64\n",
            " 21  f_22    937 non-null    float64\n",
            " 22  f_23    937 non-null    int64  \n",
            " 23  f_24    937 non-null    float64\n",
            " 24  f_25    937 non-null    float64\n",
            " 25  f_26    937 non-null    float64\n",
            " 26  f_27    937 non-null    float64\n",
            " 27  f_28    937 non-null    float64\n",
            " 28  f_29    937 non-null    float64\n",
            " 29  f_30    937 non-null    float64\n",
            " 30  f_31    937 non-null    float64\n",
            " 31  f_32    937 non-null    float64\n",
            " 32  f_33    937 non-null    float64\n",
            " 33  f_34    937 non-null    float64\n",
            " 34  f_35    937 non-null    int64  \n",
            " 35  f_36    937 non-null    int64  \n",
            " 36  f_37    937 non-null    float64\n",
            " 37  f_38    937 non-null    float64\n",
            " 38  f_39    937 non-null    int64  \n",
            " 39  f_40    937 non-null    int64  \n",
            " 40  f_41    937 non-null    float64\n",
            " 41  f_42    937 non-null    float64\n",
            " 42  f_43    937 non-null    float64\n",
            " 43  f_44    937 non-null    float64\n",
            " 44  f_45    937 non-null    float64\n",
            " 45  f_46    937 non-null    int64  \n",
            " 46  f_47    937 non-null    float64\n",
            " 47  f_48    937 non-null    float64\n",
            " 48  f_49    937 non-null    float64\n",
            " 49  target  937 non-null    int64  \n",
            "dtypes: float64(39), int64(11)\n",
            "memory usage: 366.1 KB\n"
          ]
        }
      ]
    },
    {
      "cell_type": "code",
      "source": [
        "oil_spill_dataset.isna().sum()"
      ],
      "metadata": {
        "colab": {
          "base_uri": "https://localhost:8080/"
        },
        "id": "inmWm1TyOhTr",
        "outputId": "1e0f7e81-366a-40d8-d121-e3d56c0c16c2"
      },
      "execution_count": null,
      "outputs": [
        {
          "output_type": "execute_result",
          "data": {
            "text/plain": [
              "f_1       0\n",
              "f_2       0\n",
              "f_3       0\n",
              "f_4       0\n",
              "f_5       0\n",
              "f_6       0\n",
              "f_7       0\n",
              "f_8       0\n",
              "f_9       0\n",
              "f_10      0\n",
              "f_11      0\n",
              "f_12      0\n",
              "f_13      0\n",
              "f_14      0\n",
              "f_15      0\n",
              "f_16      0\n",
              "f_17      0\n",
              "f_18      0\n",
              "f_19      0\n",
              "f_20      0\n",
              "f_21      0\n",
              "f_22      0\n",
              "f_23      0\n",
              "f_24      0\n",
              "f_25      0\n",
              "f_26      0\n",
              "f_27      0\n",
              "f_28      0\n",
              "f_29      0\n",
              "f_30      0\n",
              "f_31      0\n",
              "f_32      0\n",
              "f_33      0\n",
              "f_34      0\n",
              "f_35      0\n",
              "f_36      0\n",
              "f_37      0\n",
              "f_38      0\n",
              "f_39      0\n",
              "f_40      0\n",
              "f_41      0\n",
              "f_42      0\n",
              "f_43      0\n",
              "f_44      0\n",
              "f_45      0\n",
              "f_46      0\n",
              "f_47      0\n",
              "f_48      0\n",
              "f_49      0\n",
              "target    0\n",
              "dtype: int64"
            ]
          },
          "metadata": {},
          "execution_count": 58
        }
      ]
    },
    {
      "cell_type": "code",
      "source": [
        "target_var = oil_spill_dataset[\"target\"].value_counts()\n",
        "print(\"Target distribution:\")\n",
        "print(target_var)\n"
      ],
      "metadata": {
        "colab": {
          "base_uri": "https://localhost:8080/"
        },
        "id": "QiNVIYdqc1In",
        "outputId": "4e469508-f3f8-4e59-d539-1184b99459aa"
      },
      "execution_count": null,
      "outputs": [
        {
          "output_type": "stream",
          "name": "stdout",
          "text": [
            "Target distribution:\n",
            "0    896\n",
            "1     41\n",
            "Name: target, dtype: int64\n"
          ]
        }
      ]
    },
    {
      "cell_type": "markdown",
      "source": [],
      "metadata": {
        "id": "gURx_y9wc9L-"
      }
    },
    {
      "cell_type": "markdown",
      "source": [
        "#count the target values"
      ],
      "metadata": {
        "id": "7wSevRyvdOcC"
      }
    },
    {
      "cell_type": "code",
      "source": [
        "#Prepare the data for modeling\n",
        "X = oil_spill_dataset.drop(\"target\", axis=1)  # X = oil_spill_dataset.iloc[:,:-1])\n",
        "y = oil_spill_dataset[\"target\"]               # y = oil_spill_dataset.iloc[:,-1])\n",
        "print(type(X))  # dataframe\n",
        "print(type(y))  # series\n",
        "print(X.shape)\n",
        "print(y.shape)"
      ],
      "metadata": {
        "colab": {
          "base_uri": "https://localhost:8080/"
        },
        "id": "TLVf2SyCdPod",
        "outputId": "33f73180-95fd-4697-cd10-1ebc0e219233"
      },
      "execution_count": null,
      "outputs": [
        {
          "output_type": "stream",
          "name": "stdout",
          "text": [
            "<class 'pandas.core.frame.DataFrame'>\n",
            "<class 'pandas.core.series.Series'>\n",
            "(937, 49)\n",
            "(937,)\n"
          ]
        }
      ]
    },
    {
      "cell_type": "code",
      "source": [
        "from sklearn.model_selection import train_test_split"
      ],
      "metadata": {
        "id": "21jM4Wwgdjpo"
      },
      "execution_count": null,
      "outputs": []
    },
    {
      "cell_type": "code",
      "source": [
        "x_train,x_test,y_train,y_test = train_test_split(X,y,test_size=0.25,random_state=22)\n",
        "print(x_train.shape)\n",
        "print(x_test.shape)\n",
        "print(y_train.shape)\n",
        "print(y_test.shape)"
      ],
      "metadata": {
        "colab": {
          "base_uri": "https://localhost:8080/"
        },
        "id": "1z9j5Ribdoj6",
        "outputId": "27bc2ad3-7536-434f-e426-615dd6f44f85"
      },
      "execution_count": null,
      "outputs": [
        {
          "output_type": "stream",
          "name": "stdout",
          "text": [
            "(702, 49)\n",
            "(235, 49)\n",
            "(702,)\n",
            "(235,)\n"
          ]
        }
      ]
    },
    {
      "cell_type": "code",
      "source": [
        "from sklearn.tree import DecisionTreeClassifier\n",
        "from sklearn.ensemble import BaggingClassifier"
      ],
      "metadata": {
        "id": "eTuhAzqtds_h"
      },
      "execution_count": null,
      "outputs": []
    },
    {
      "cell_type": "code",
      "source": [
        "dt = DecisionTreeClassifier(criterion='gini',max_depth=10,min_samples_split=20)"
      ],
      "metadata": {
        "id": "3PKKjxdDdy7v"
      },
      "execution_count": null,
      "outputs": []
    },
    {
      "cell_type": "code",
      "source": [],
      "metadata": {
        "id": "Ks3M8kltOm5b"
      },
      "execution_count": null,
      "outputs": []
    },
    {
      "cell_type": "code",
      "source": [
        "from sklearn.ensemble import RandomForestClassifier\n",
        "from sklearn.metrics import confusion_matrix,classification_report,accuracy_score"
      ],
      "metadata": {
        "id": "LI4fV3a4d20S"
      },
      "execution_count": null,
      "outputs": []
    },
    {
      "cell_type": "code",
      "source": [
        "def cls_eval(ytest,ypred):\n",
        "    cm = confusion_matrix(ytest,ypred)\n",
        "    print(cm)\n",
        "    print('Accuracy Score',accuracy_score(ytest,ypred))\n",
        "    print(classification_report(ytest,ypred,zero_division=0))\n",
        "\n",
        "def mscore(model):\n",
        "    print('Training Score',model.score(x_train,y_train))  # Training accuracy\n",
        "    print('Testing Score',model.score(x_test,y_test))     # testing accuracy"
      ],
      "metadata": {
        "id": "q-XyE4Ppd_e3"
      },
      "execution_count": null,
      "outputs": []
    },
    {
      "cell_type": "code",
      "source": [
        "print(X.shape)"
      ],
      "metadata": {
        "colab": {
          "base_uri": "https://localhost:8080/"
        },
        "id": "m-MOBIYYeKnr",
        "outputId": "117cc528-653e-4e1c-a0d4-2dfbf53e0d8a"
      },
      "execution_count": null,
      "outputs": [
        {
          "output_type": "stream",
          "name": "stdout",
          "text": [
            "(937, 49)\n"
          ]
        }
      ]
    },
    {
      "cell_type": "code",
      "source": [
        "bc_dt = BaggingClassifier(base_estimator=dt,n_estimators=15,\n",
        "                          max_samples=X.shape[0],max_features=X.shape[1],\n",
        "                          random_state=2022)\n",
        "bc_dt.fit(X,y)"
      ],
      "metadata": {
        "colab": {
          "base_uri": "https://localhost:8080/",
          "height": 117
        },
        "id": "YUiyPEUheObX",
        "outputId": "26ddc0fd-3e79-47dc-dd83-1ee826f161be"
      },
      "execution_count": null,
      "outputs": [
        {
          "output_type": "execute_result",
          "data": {
            "text/plain": [
              "BaggingClassifier(base_estimator=DecisionTreeClassifier(max_depth=10,\n",
              "                                                        min_samples_split=20),\n",
              "                  max_features=49, max_samples=937, n_estimators=15,\n",
              "                  random_state=2022)"
            ],
            "text/html": [
              "<style>#sk-container-id-5 {color: black;background-color: white;}#sk-container-id-5 pre{padding: 0;}#sk-container-id-5 div.sk-toggleable {background-color: white;}#sk-container-id-5 label.sk-toggleable__label {cursor: pointer;display: block;width: 100%;margin-bottom: 0;padding: 0.3em;box-sizing: border-box;text-align: center;}#sk-container-id-5 label.sk-toggleable__label-arrow:before {content: \"▸\";float: left;margin-right: 0.25em;color: #696969;}#sk-container-id-5 label.sk-toggleable__label-arrow:hover:before {color: black;}#sk-container-id-5 div.sk-estimator:hover label.sk-toggleable__label-arrow:before {color: black;}#sk-container-id-5 div.sk-toggleable__content {max-height: 0;max-width: 0;overflow: hidden;text-align: left;background-color: #f0f8ff;}#sk-container-id-5 div.sk-toggleable__content pre {margin: 0.2em;color: black;border-radius: 0.25em;background-color: #f0f8ff;}#sk-container-id-5 input.sk-toggleable__control:checked~div.sk-toggleable__content {max-height: 200px;max-width: 100%;overflow: auto;}#sk-container-id-5 input.sk-toggleable__control:checked~label.sk-toggleable__label-arrow:before {content: \"▾\";}#sk-container-id-5 div.sk-estimator input.sk-toggleable__control:checked~label.sk-toggleable__label {background-color: #d4ebff;}#sk-container-id-5 div.sk-label input.sk-toggleable__control:checked~label.sk-toggleable__label {background-color: #d4ebff;}#sk-container-id-5 input.sk-hidden--visually {border: 0;clip: rect(1px 1px 1px 1px);clip: rect(1px, 1px, 1px, 1px);height: 1px;margin: -1px;overflow: hidden;padding: 0;position: absolute;width: 1px;}#sk-container-id-5 div.sk-estimator {font-family: monospace;background-color: #f0f8ff;border: 1px dotted black;border-radius: 0.25em;box-sizing: border-box;margin-bottom: 0.5em;}#sk-container-id-5 div.sk-estimator:hover {background-color: #d4ebff;}#sk-container-id-5 div.sk-parallel-item::after {content: \"\";width: 100%;border-bottom: 1px solid gray;flex-grow: 1;}#sk-container-id-5 div.sk-label:hover label.sk-toggleable__label {background-color: #d4ebff;}#sk-container-id-5 div.sk-serial::before {content: \"\";position: absolute;border-left: 1px solid gray;box-sizing: border-box;top: 0;bottom: 0;left: 50%;z-index: 0;}#sk-container-id-5 div.sk-serial {display: flex;flex-direction: column;align-items: center;background-color: white;padding-right: 0.2em;padding-left: 0.2em;position: relative;}#sk-container-id-5 div.sk-item {position: relative;z-index: 1;}#sk-container-id-5 div.sk-parallel {display: flex;align-items: stretch;justify-content: center;background-color: white;position: relative;}#sk-container-id-5 div.sk-item::before, #sk-container-id-5 div.sk-parallel-item::before {content: \"\";position: absolute;border-left: 1px solid gray;box-sizing: border-box;top: 0;bottom: 0;left: 50%;z-index: -1;}#sk-container-id-5 div.sk-parallel-item {display: flex;flex-direction: column;z-index: 1;position: relative;background-color: white;}#sk-container-id-5 div.sk-parallel-item:first-child::after {align-self: flex-end;width: 50%;}#sk-container-id-5 div.sk-parallel-item:last-child::after {align-self: flex-start;width: 50%;}#sk-container-id-5 div.sk-parallel-item:only-child::after {width: 0;}#sk-container-id-5 div.sk-dashed-wrapped {border: 1px dashed gray;margin: 0 0.4em 0.5em 0.4em;box-sizing: border-box;padding-bottom: 0.4em;background-color: white;}#sk-container-id-5 div.sk-label label {font-family: monospace;font-weight: bold;display: inline-block;line-height: 1.2em;}#sk-container-id-5 div.sk-label-container {text-align: center;}#sk-container-id-5 div.sk-container {/* jupyter's `normalize.less` sets `[hidden] { display: none; }` but bootstrap.min.css set `[hidden] { display: none !important; }` so we also need the `!important` here to be able to override the default hidden behavior on the sphinx rendered scikit-learn.org. See: https://github.com/scikit-learn/scikit-learn/issues/21755 */display: inline-block !important;position: relative;}#sk-container-id-5 div.sk-text-repr-fallback {display: none;}</style><div id=\"sk-container-id-5\" class=\"sk-top-container\"><div class=\"sk-text-repr-fallback\"><pre>BaggingClassifier(base_estimator=DecisionTreeClassifier(max_depth=10,\n",
              "                                                        min_samples_split=20),\n",
              "                  max_features=49, max_samples=937, n_estimators=15,\n",
              "                  random_state=2022)</pre><b>In a Jupyter environment, please rerun this cell to show the HTML representation or trust the notebook. <br />On GitHub, the HTML representation is unable to render, please try loading this page with nbviewer.org.</b></div><div class=\"sk-container\" hidden><div class=\"sk-item sk-dashed-wrapped\"><div class=\"sk-label-container\"><div class=\"sk-label sk-toggleable\"><input class=\"sk-toggleable__control sk-hidden--visually\" id=\"sk-estimator-id-9\" type=\"checkbox\" ><label for=\"sk-estimator-id-9\" class=\"sk-toggleable__label sk-toggleable__label-arrow\">BaggingClassifier</label><div class=\"sk-toggleable__content\"><pre>BaggingClassifier(base_estimator=DecisionTreeClassifier(max_depth=10,\n",
              "                                                        min_samples_split=20),\n",
              "                  max_features=49, max_samples=937, n_estimators=15,\n",
              "                  random_state=2022)</pre></div></div></div><div class=\"sk-parallel\"><div class=\"sk-parallel-item\"><div class=\"sk-item\"><div class=\"sk-label-container\"><div class=\"sk-label sk-toggleable\"><input class=\"sk-toggleable__control sk-hidden--visually\" id=\"sk-estimator-id-10\" type=\"checkbox\" ><label for=\"sk-estimator-id-10\" class=\"sk-toggleable__label sk-toggleable__label-arrow\">base_estimator: DecisionTreeClassifier</label><div class=\"sk-toggleable__content\"><pre>DecisionTreeClassifier(max_depth=10, min_samples_split=20)</pre></div></div></div><div class=\"sk-serial\"><div class=\"sk-item\"><div class=\"sk-estimator sk-toggleable\"><input class=\"sk-toggleable__control sk-hidden--visually\" id=\"sk-estimator-id-11\" type=\"checkbox\" ><label for=\"sk-estimator-id-11\" class=\"sk-toggleable__label sk-toggleable__label-arrow\">DecisionTreeClassifier</label><div class=\"sk-toggleable__content\"><pre>DecisionTreeClassifier(max_depth=10, min_samples_split=20)</pre></div></div></div></div></div></div></div></div></div></div>"
            ]
          },
          "metadata": {},
          "execution_count": 68
        }
      ]
    },
    {
      "cell_type": "code",
      "source": [
        "mscore(bc_dt)"
      ],
      "metadata": {
        "colab": {
          "base_uri": "https://localhost:8080/"
        },
        "id": "WDcSSjN1eTjO",
        "outputId": "49d4dd95-9019-4e74-c9db-f2ddb9ade1c1"
      },
      "execution_count": null,
      "outputs": [
        {
          "output_type": "stream",
          "name": "stdout",
          "text": [
            "Training Score 0.9772079772079773\n",
            "Testing Score 0.9787234042553191\n"
          ]
        }
      ]
    },
    {
      "cell_type": "code",
      "source": [
        "ypred_bc = bc_dt.predict(x_test)\n",
        "print(ypred_bc)"
      ],
      "metadata": {
        "colab": {
          "base_uri": "https://localhost:8080/"
        },
        "id": "9_qPvgOIeYVc",
        "outputId": "5689d3c5-81e0-45d2-e62d-513d43aec76a"
      },
      "execution_count": null,
      "outputs": [
        {
          "output_type": "stream",
          "name": "stdout",
          "text": [
            "[0 0 0 0 0 0 0 0 0 0 0 0 0 0 0 0 0 0 0 1 0 0 0 0 0 0 0 0 0 0 0 0 0 0 0 1 0\n",
            " 0 0 0 0 0 0 0 0 0 0 0 1 0 0 0 0 0 0 0 0 0 0 0 0 0 0 0 0 0 0 0 0 0 0 0 0 0\n",
            " 0 0 0 0 0 0 0 0 0 1 0 0 0 0 0 0 0 0 0 0 0 0 0 0 0 0 0 0 0 0 0 0 0 0 0 0 0\n",
            " 0 0 0 0 0 0 0 0 0 0 0 0 0 0 0 0 0 0 0 0 0 0 0 0 0 0 0 0 0 0 0 0 0 0 0 0 0\n",
            " 0 0 0 0 0 0 0 0 0 0 0 0 0 0 0 0 0 0 0 0 0 0 0 0 0 0 0 0 0 0 0 0 0 0 0 0 0\n",
            " 0 0 0 0 0 0 0 0 0 0 0 0 0 0 0 0 0 0 0 0 1 0 0 0 0 0 0 0 0 0 0 0 0 0 0 0 0\n",
            " 0 0 0 0 0 0 0 0 0 0 0 0 0]\n"
          ]
        }
      ]
    },
    {
      "cell_type": "code",
      "source": [
        "cls_eval(y_test,ypred_bc)"
      ],
      "metadata": {
        "colab": {
          "base_uri": "https://localhost:8080/"
        },
        "id": "95p6xMzXeb2l",
        "outputId": "e4aa30cf-af9f-4616-b44f-3a13f4e17254"
      },
      "execution_count": null,
      "outputs": [
        {
          "output_type": "stream",
          "name": "stdout",
          "text": [
            "[[225   0]\n",
            " [  5   5]]\n",
            "Accuracy Score 0.9787234042553191\n",
            "              precision    recall  f1-score   support\n",
            "\n",
            "           0       0.98      1.00      0.99       225\n",
            "           1       1.00      0.50      0.67        10\n",
            "\n",
            "    accuracy                           0.98       235\n",
            "   macro avg       0.99      0.75      0.83       235\n",
            "weighted avg       0.98      0.98      0.98       235\n",
            "\n"
          ]
        }
      ]
    },
    {
      "cell_type": "code",
      "source": [
        "rf = RandomForestClassifier(n_estimators=25,criterion='gini',min_samples_split=20,max_depth=10)\n",
        "rf.fit(x_train,y_train)"
      ],
      "metadata": {
        "colab": {
          "base_uri": "https://localhost:8080/",
          "height": 74
        },
        "id": "6Qd6kHeZegGv",
        "outputId": "67cd09e3-7d47-4d63-de0a-3918a73a2f71"
      },
      "execution_count": null,
      "outputs": [
        {
          "output_type": "execute_result",
          "data": {
            "text/plain": [
              "RandomForestClassifier(max_depth=10, min_samples_split=20, n_estimators=25)"
            ],
            "text/html": [
              "<style>#sk-container-id-6 {color: black;background-color: white;}#sk-container-id-6 pre{padding: 0;}#sk-container-id-6 div.sk-toggleable {background-color: white;}#sk-container-id-6 label.sk-toggleable__label {cursor: pointer;display: block;width: 100%;margin-bottom: 0;padding: 0.3em;box-sizing: border-box;text-align: center;}#sk-container-id-6 label.sk-toggleable__label-arrow:before {content: \"▸\";float: left;margin-right: 0.25em;color: #696969;}#sk-container-id-6 label.sk-toggleable__label-arrow:hover:before {color: black;}#sk-container-id-6 div.sk-estimator:hover label.sk-toggleable__label-arrow:before {color: black;}#sk-container-id-6 div.sk-toggleable__content {max-height: 0;max-width: 0;overflow: hidden;text-align: left;background-color: #f0f8ff;}#sk-container-id-6 div.sk-toggleable__content pre {margin: 0.2em;color: black;border-radius: 0.25em;background-color: #f0f8ff;}#sk-container-id-6 input.sk-toggleable__control:checked~div.sk-toggleable__content {max-height: 200px;max-width: 100%;overflow: auto;}#sk-container-id-6 input.sk-toggleable__control:checked~label.sk-toggleable__label-arrow:before {content: \"▾\";}#sk-container-id-6 div.sk-estimator input.sk-toggleable__control:checked~label.sk-toggleable__label {background-color: #d4ebff;}#sk-container-id-6 div.sk-label input.sk-toggleable__control:checked~label.sk-toggleable__label {background-color: #d4ebff;}#sk-container-id-6 input.sk-hidden--visually {border: 0;clip: rect(1px 1px 1px 1px);clip: rect(1px, 1px, 1px, 1px);height: 1px;margin: -1px;overflow: hidden;padding: 0;position: absolute;width: 1px;}#sk-container-id-6 div.sk-estimator {font-family: monospace;background-color: #f0f8ff;border: 1px dotted black;border-radius: 0.25em;box-sizing: border-box;margin-bottom: 0.5em;}#sk-container-id-6 div.sk-estimator:hover {background-color: #d4ebff;}#sk-container-id-6 div.sk-parallel-item::after {content: \"\";width: 100%;border-bottom: 1px solid gray;flex-grow: 1;}#sk-container-id-6 div.sk-label:hover label.sk-toggleable__label {background-color: #d4ebff;}#sk-container-id-6 div.sk-serial::before {content: \"\";position: absolute;border-left: 1px solid gray;box-sizing: border-box;top: 0;bottom: 0;left: 50%;z-index: 0;}#sk-container-id-6 div.sk-serial {display: flex;flex-direction: column;align-items: center;background-color: white;padding-right: 0.2em;padding-left: 0.2em;position: relative;}#sk-container-id-6 div.sk-item {position: relative;z-index: 1;}#sk-container-id-6 div.sk-parallel {display: flex;align-items: stretch;justify-content: center;background-color: white;position: relative;}#sk-container-id-6 div.sk-item::before, #sk-container-id-6 div.sk-parallel-item::before {content: \"\";position: absolute;border-left: 1px solid gray;box-sizing: border-box;top: 0;bottom: 0;left: 50%;z-index: -1;}#sk-container-id-6 div.sk-parallel-item {display: flex;flex-direction: column;z-index: 1;position: relative;background-color: white;}#sk-container-id-6 div.sk-parallel-item:first-child::after {align-self: flex-end;width: 50%;}#sk-container-id-6 div.sk-parallel-item:last-child::after {align-self: flex-start;width: 50%;}#sk-container-id-6 div.sk-parallel-item:only-child::after {width: 0;}#sk-container-id-6 div.sk-dashed-wrapped {border: 1px dashed gray;margin: 0 0.4em 0.5em 0.4em;box-sizing: border-box;padding-bottom: 0.4em;background-color: white;}#sk-container-id-6 div.sk-label label {font-family: monospace;font-weight: bold;display: inline-block;line-height: 1.2em;}#sk-container-id-6 div.sk-label-container {text-align: center;}#sk-container-id-6 div.sk-container {/* jupyter's `normalize.less` sets `[hidden] { display: none; }` but bootstrap.min.css set `[hidden] { display: none !important; }` so we also need the `!important` here to be able to override the default hidden behavior on the sphinx rendered scikit-learn.org. See: https://github.com/scikit-learn/scikit-learn/issues/21755 */display: inline-block !important;position: relative;}#sk-container-id-6 div.sk-text-repr-fallback {display: none;}</style><div id=\"sk-container-id-6\" class=\"sk-top-container\"><div class=\"sk-text-repr-fallback\"><pre>RandomForestClassifier(max_depth=10, min_samples_split=20, n_estimators=25)</pre><b>In a Jupyter environment, please rerun this cell to show the HTML representation or trust the notebook. <br />On GitHub, the HTML representation is unable to render, please try loading this page with nbviewer.org.</b></div><div class=\"sk-container\" hidden><div class=\"sk-item\"><div class=\"sk-estimator sk-toggleable\"><input class=\"sk-toggleable__control sk-hidden--visually\" id=\"sk-estimator-id-12\" type=\"checkbox\" checked><label for=\"sk-estimator-id-12\" class=\"sk-toggleable__label sk-toggleable__label-arrow\">RandomForestClassifier</label><div class=\"sk-toggleable__content\"><pre>RandomForestClassifier(max_depth=10, min_samples_split=20, n_estimators=25)</pre></div></div></div></div></div>"
            ]
          },
          "metadata": {},
          "execution_count": 72
        }
      ]
    },
    {
      "cell_type": "code",
      "source": [],
      "metadata": {
        "id": "lz52xg7fejFZ"
      },
      "execution_count": null,
      "outputs": []
    },
    {
      "cell_type": "code",
      "source": [
        "# Training and the testing Score\n",
        "mscore(rf)"
      ],
      "metadata": {
        "colab": {
          "base_uri": "https://localhost:8080/"
        },
        "id": "2kKhHUm4emfl",
        "outputId": "6178a3c7-db72-46de-c3a9-b13f11bc5833"
      },
      "execution_count": null,
      "outputs": [
        {
          "output_type": "stream",
          "name": "stdout",
          "text": [
            "Training Score 0.9700854700854701\n",
            "Testing Score 0.9531914893617022\n"
          ]
        }
      ]
    },
    {
      "cell_type": "code",
      "source": [
        "# Generating the predictions\n",
        "ypred_rf = rf.predict(x_test)"
      ],
      "metadata": {
        "id": "QunPkUZCeqid"
      },
      "execution_count": null,
      "outputs": []
    },
    {
      "cell_type": "code",
      "source": [],
      "metadata": {
        "id": "bUxAApMwesdP"
      },
      "execution_count": null,
      "outputs": []
    },
    {
      "cell_type": "markdown",
      "source": [
        "# Generating the predictions"
      ],
      "metadata": {
        "id": "ldrUFOT_e0DA"
      }
    },
    {
      "cell_type": "code",
      "source": [],
      "metadata": {
        "id": "2rqbHGgAe1UV"
      },
      "execution_count": null,
      "outputs": []
    },
    {
      "cell_type": "code",
      "source": [
        "from sklearn.preprocessing import StandardScaler"
      ],
      "metadata": {
        "id": "Nc-tXvTOe4fs"
      },
      "execution_count": null,
      "outputs": []
    },
    {
      "cell_type": "code",
      "source": [
        "#Feature scaling\n",
        "scaler = StandardScaler()\n",
        "x_train_scaled = scaler.fit_transform(x_train)\n",
        "x_test_scaled = scaler.transform(x_test)"
      ],
      "metadata": {
        "id": "5ASb3YBse6S2"
      },
      "execution_count": null,
      "outputs": []
    },
    {
      "cell_type": "code",
      "source": [
        "#  Model training and evaluation\n",
        "# Random Forest Classifier\n",
        "rf_model = RandomForestClassifier()\n",
        "rf_model.fit(x_train_scaled, y_train)"
      ],
      "metadata": {
        "colab": {
          "base_uri": "https://localhost:8080/",
          "height": 74
        },
        "id": "6d8v9wyCe-0D",
        "outputId": "53eb08fb-f9f3-4b2a-a0b5-aea11248d2d9"
      },
      "execution_count": null,
      "outputs": [
        {
          "output_type": "execute_result",
          "data": {
            "text/plain": [
              "RandomForestClassifier()"
            ],
            "text/html": [
              "<style>#sk-container-id-7 {color: black;background-color: white;}#sk-container-id-7 pre{padding: 0;}#sk-container-id-7 div.sk-toggleable {background-color: white;}#sk-container-id-7 label.sk-toggleable__label {cursor: pointer;display: block;width: 100%;margin-bottom: 0;padding: 0.3em;box-sizing: border-box;text-align: center;}#sk-container-id-7 label.sk-toggleable__label-arrow:before {content: \"▸\";float: left;margin-right: 0.25em;color: #696969;}#sk-container-id-7 label.sk-toggleable__label-arrow:hover:before {color: black;}#sk-container-id-7 div.sk-estimator:hover label.sk-toggleable__label-arrow:before {color: black;}#sk-container-id-7 div.sk-toggleable__content {max-height: 0;max-width: 0;overflow: hidden;text-align: left;background-color: #f0f8ff;}#sk-container-id-7 div.sk-toggleable__content pre {margin: 0.2em;color: black;border-radius: 0.25em;background-color: #f0f8ff;}#sk-container-id-7 input.sk-toggleable__control:checked~div.sk-toggleable__content {max-height: 200px;max-width: 100%;overflow: auto;}#sk-container-id-7 input.sk-toggleable__control:checked~label.sk-toggleable__label-arrow:before {content: \"▾\";}#sk-container-id-7 div.sk-estimator input.sk-toggleable__control:checked~label.sk-toggleable__label {background-color: #d4ebff;}#sk-container-id-7 div.sk-label input.sk-toggleable__control:checked~label.sk-toggleable__label {background-color: #d4ebff;}#sk-container-id-7 input.sk-hidden--visually {border: 0;clip: rect(1px 1px 1px 1px);clip: rect(1px, 1px, 1px, 1px);height: 1px;margin: -1px;overflow: hidden;padding: 0;position: absolute;width: 1px;}#sk-container-id-7 div.sk-estimator {font-family: monospace;background-color: #f0f8ff;border: 1px dotted black;border-radius: 0.25em;box-sizing: border-box;margin-bottom: 0.5em;}#sk-container-id-7 div.sk-estimator:hover {background-color: #d4ebff;}#sk-container-id-7 div.sk-parallel-item::after {content: \"\";width: 100%;border-bottom: 1px solid gray;flex-grow: 1;}#sk-container-id-7 div.sk-label:hover label.sk-toggleable__label {background-color: #d4ebff;}#sk-container-id-7 div.sk-serial::before {content: \"\";position: absolute;border-left: 1px solid gray;box-sizing: border-box;top: 0;bottom: 0;left: 50%;z-index: 0;}#sk-container-id-7 div.sk-serial {display: flex;flex-direction: column;align-items: center;background-color: white;padding-right: 0.2em;padding-left: 0.2em;position: relative;}#sk-container-id-7 div.sk-item {position: relative;z-index: 1;}#sk-container-id-7 div.sk-parallel {display: flex;align-items: stretch;justify-content: center;background-color: white;position: relative;}#sk-container-id-7 div.sk-item::before, #sk-container-id-7 div.sk-parallel-item::before {content: \"\";position: absolute;border-left: 1px solid gray;box-sizing: border-box;top: 0;bottom: 0;left: 50%;z-index: -1;}#sk-container-id-7 div.sk-parallel-item {display: flex;flex-direction: column;z-index: 1;position: relative;background-color: white;}#sk-container-id-7 div.sk-parallel-item:first-child::after {align-self: flex-end;width: 50%;}#sk-container-id-7 div.sk-parallel-item:last-child::after {align-self: flex-start;width: 50%;}#sk-container-id-7 div.sk-parallel-item:only-child::after {width: 0;}#sk-container-id-7 div.sk-dashed-wrapped {border: 1px dashed gray;margin: 0 0.4em 0.5em 0.4em;box-sizing: border-box;padding-bottom: 0.4em;background-color: white;}#sk-container-id-7 div.sk-label label {font-family: monospace;font-weight: bold;display: inline-block;line-height: 1.2em;}#sk-container-id-7 div.sk-label-container {text-align: center;}#sk-container-id-7 div.sk-container {/* jupyter's `normalize.less` sets `[hidden] { display: none; }` but bootstrap.min.css set `[hidden] { display: none !important; }` so we also need the `!important` here to be able to override the default hidden behavior on the sphinx rendered scikit-learn.org. See: https://github.com/scikit-learn/scikit-learn/issues/21755 */display: inline-block !important;position: relative;}#sk-container-id-7 div.sk-text-repr-fallback {display: none;}</style><div id=\"sk-container-id-7\" class=\"sk-top-container\"><div class=\"sk-text-repr-fallback\"><pre>RandomForestClassifier()</pre><b>In a Jupyter environment, please rerun this cell to show the HTML representation or trust the notebook. <br />On GitHub, the HTML representation is unable to render, please try loading this page with nbviewer.org.</b></div><div class=\"sk-container\" hidden><div class=\"sk-item\"><div class=\"sk-estimator sk-toggleable\"><input class=\"sk-toggleable__control sk-hidden--visually\" id=\"sk-estimator-id-13\" type=\"checkbox\" checked><label for=\"sk-estimator-id-13\" class=\"sk-toggleable__label sk-toggleable__label-arrow\">RandomForestClassifier</label><div class=\"sk-toggleable__content\"><pre>RandomForestClassifier()</pre></div></div></div></div></div>"
            ]
          },
          "metadata": {},
          "execution_count": 77
        }
      ]
    },
    {
      "cell_type": "code",
      "source": [
        "rf_predictions = rf_model.predict(x_test_scaled)\n",
        "print(\"Random Forest Classifier:\")\n",
        "print(classification_report(y_test, rf_predictions))\n",
        "print(\"Accuracy:\", accuracy_score(y_test, rf_predictions))\n",
        "print()"
      ],
      "metadata": {
        "colab": {
          "base_uri": "https://localhost:8080/"
        },
        "id": "qA50gqaXfHSo",
        "outputId": "0f5ae1d7-cb76-4a6d-ac81-23ece219a615"
      },
      "execution_count": null,
      "outputs": [
        {
          "output_type": "stream",
          "name": "stdout",
          "text": [
            "Random Forest Classifier:\n",
            "              precision    recall  f1-score   support\n",
            "\n",
            "           0       0.97      1.00      0.98       225\n",
            "           1       1.00      0.20      0.33        10\n",
            "\n",
            "    accuracy                           0.97       235\n",
            "   macro avg       0.98      0.60      0.66       235\n",
            "weighted avg       0.97      0.97      0.95       235\n",
            "\n",
            "Accuracy: 0.9659574468085106\n",
            "\n"
          ]
        }
      ]
    },
    {
      "cell_type": "code",
      "source": [
        "from sklearn.ensemble import  AdaBoostClassifier"
      ],
      "metadata": {
        "id": "V805vVmjfJHU"
      },
      "execution_count": null,
      "outputs": []
    },
    {
      "cell_type": "code",
      "source": [
        "tree = DecisionTreeClassifier(random_state=2022,max_depth=3,criterion='entropy',min_samples_split=8)"
      ],
      "metadata": {
        "id": "ZOGeItXnfM_S"
      },
      "execution_count": null,
      "outputs": []
    },
    {
      "cell_type": "code",
      "source": [
        "ada_boost = AdaBoostClassifier(base_estimator=tree,n_estimators=80)\n",
        "ada_boost.fit(x_train,y_train)"
      ],
      "metadata": {
        "colab": {
          "base_uri": "https://localhost:8080/",
          "height": 117
        },
        "id": "Z4SavxpvfSCG",
        "outputId": "7cba4101-a4ad-4633-f92e-2f4d2e346b4a"
      },
      "execution_count": null,
      "outputs": [
        {
          "output_type": "execute_result",
          "data": {
            "text/plain": [
              "AdaBoostClassifier(base_estimator=DecisionTreeClassifier(criterion='entropy',\n",
              "                                                         max_depth=3,\n",
              "                                                         min_samples_split=8,\n",
              "                                                         random_state=2022),\n",
              "                   n_estimators=80)"
            ],
            "text/html": [
              "<style>#sk-container-id-8 {color: black;background-color: white;}#sk-container-id-8 pre{padding: 0;}#sk-container-id-8 div.sk-toggleable {background-color: white;}#sk-container-id-8 label.sk-toggleable__label {cursor: pointer;display: block;width: 100%;margin-bottom: 0;padding: 0.3em;box-sizing: border-box;text-align: center;}#sk-container-id-8 label.sk-toggleable__label-arrow:before {content: \"▸\";float: left;margin-right: 0.25em;color: #696969;}#sk-container-id-8 label.sk-toggleable__label-arrow:hover:before {color: black;}#sk-container-id-8 div.sk-estimator:hover label.sk-toggleable__label-arrow:before {color: black;}#sk-container-id-8 div.sk-toggleable__content {max-height: 0;max-width: 0;overflow: hidden;text-align: left;background-color: #f0f8ff;}#sk-container-id-8 div.sk-toggleable__content pre {margin: 0.2em;color: black;border-radius: 0.25em;background-color: #f0f8ff;}#sk-container-id-8 input.sk-toggleable__control:checked~div.sk-toggleable__content {max-height: 200px;max-width: 100%;overflow: auto;}#sk-container-id-8 input.sk-toggleable__control:checked~label.sk-toggleable__label-arrow:before {content: \"▾\";}#sk-container-id-8 div.sk-estimator input.sk-toggleable__control:checked~label.sk-toggleable__label {background-color: #d4ebff;}#sk-container-id-8 div.sk-label input.sk-toggleable__control:checked~label.sk-toggleable__label {background-color: #d4ebff;}#sk-container-id-8 input.sk-hidden--visually {border: 0;clip: rect(1px 1px 1px 1px);clip: rect(1px, 1px, 1px, 1px);height: 1px;margin: -1px;overflow: hidden;padding: 0;position: absolute;width: 1px;}#sk-container-id-8 div.sk-estimator {font-family: monospace;background-color: #f0f8ff;border: 1px dotted black;border-radius: 0.25em;box-sizing: border-box;margin-bottom: 0.5em;}#sk-container-id-8 div.sk-estimator:hover {background-color: #d4ebff;}#sk-container-id-8 div.sk-parallel-item::after {content: \"\";width: 100%;border-bottom: 1px solid gray;flex-grow: 1;}#sk-container-id-8 div.sk-label:hover label.sk-toggleable__label {background-color: #d4ebff;}#sk-container-id-8 div.sk-serial::before {content: \"\";position: absolute;border-left: 1px solid gray;box-sizing: border-box;top: 0;bottom: 0;left: 50%;z-index: 0;}#sk-container-id-8 div.sk-serial {display: flex;flex-direction: column;align-items: center;background-color: white;padding-right: 0.2em;padding-left: 0.2em;position: relative;}#sk-container-id-8 div.sk-item {position: relative;z-index: 1;}#sk-container-id-8 div.sk-parallel {display: flex;align-items: stretch;justify-content: center;background-color: white;position: relative;}#sk-container-id-8 div.sk-item::before, #sk-container-id-8 div.sk-parallel-item::before {content: \"\";position: absolute;border-left: 1px solid gray;box-sizing: border-box;top: 0;bottom: 0;left: 50%;z-index: -1;}#sk-container-id-8 div.sk-parallel-item {display: flex;flex-direction: column;z-index: 1;position: relative;background-color: white;}#sk-container-id-8 div.sk-parallel-item:first-child::after {align-self: flex-end;width: 50%;}#sk-container-id-8 div.sk-parallel-item:last-child::after {align-self: flex-start;width: 50%;}#sk-container-id-8 div.sk-parallel-item:only-child::after {width: 0;}#sk-container-id-8 div.sk-dashed-wrapped {border: 1px dashed gray;margin: 0 0.4em 0.5em 0.4em;box-sizing: border-box;padding-bottom: 0.4em;background-color: white;}#sk-container-id-8 div.sk-label label {font-family: monospace;font-weight: bold;display: inline-block;line-height: 1.2em;}#sk-container-id-8 div.sk-label-container {text-align: center;}#sk-container-id-8 div.sk-container {/* jupyter's `normalize.less` sets `[hidden] { display: none; }` but bootstrap.min.css set `[hidden] { display: none !important; }` so we also need the `!important` here to be able to override the default hidden behavior on the sphinx rendered scikit-learn.org. See: https://github.com/scikit-learn/scikit-learn/issues/21755 */display: inline-block !important;position: relative;}#sk-container-id-8 div.sk-text-repr-fallback {display: none;}</style><div id=\"sk-container-id-8\" class=\"sk-top-container\"><div class=\"sk-text-repr-fallback\"><pre>AdaBoostClassifier(base_estimator=DecisionTreeClassifier(criterion=&#x27;entropy&#x27;,\n",
              "                                                         max_depth=3,\n",
              "                                                         min_samples_split=8,\n",
              "                                                         random_state=2022),\n",
              "                   n_estimators=80)</pre><b>In a Jupyter environment, please rerun this cell to show the HTML representation or trust the notebook. <br />On GitHub, the HTML representation is unable to render, please try loading this page with nbviewer.org.</b></div><div class=\"sk-container\" hidden><div class=\"sk-item sk-dashed-wrapped\"><div class=\"sk-label-container\"><div class=\"sk-label sk-toggleable\"><input class=\"sk-toggleable__control sk-hidden--visually\" id=\"sk-estimator-id-14\" type=\"checkbox\" ><label for=\"sk-estimator-id-14\" class=\"sk-toggleable__label sk-toggleable__label-arrow\">AdaBoostClassifier</label><div class=\"sk-toggleable__content\"><pre>AdaBoostClassifier(base_estimator=DecisionTreeClassifier(criterion=&#x27;entropy&#x27;,\n",
              "                                                         max_depth=3,\n",
              "                                                         min_samples_split=8,\n",
              "                                                         random_state=2022),\n",
              "                   n_estimators=80)</pre></div></div></div><div class=\"sk-parallel\"><div class=\"sk-parallel-item\"><div class=\"sk-item\"><div class=\"sk-label-container\"><div class=\"sk-label sk-toggleable\"><input class=\"sk-toggleable__control sk-hidden--visually\" id=\"sk-estimator-id-15\" type=\"checkbox\" ><label for=\"sk-estimator-id-15\" class=\"sk-toggleable__label sk-toggleable__label-arrow\">base_estimator: DecisionTreeClassifier</label><div class=\"sk-toggleable__content\"><pre>DecisionTreeClassifier(criterion=&#x27;entropy&#x27;, max_depth=3, min_samples_split=8,\n",
              "                       random_state=2022)</pre></div></div></div><div class=\"sk-serial\"><div class=\"sk-item\"><div class=\"sk-estimator sk-toggleable\"><input class=\"sk-toggleable__control sk-hidden--visually\" id=\"sk-estimator-id-16\" type=\"checkbox\" ><label for=\"sk-estimator-id-16\" class=\"sk-toggleable__label sk-toggleable__label-arrow\">DecisionTreeClassifier</label><div class=\"sk-toggleable__content\"><pre>DecisionTreeClassifier(criterion=&#x27;entropy&#x27;, max_depth=3, min_samples_split=8,\n",
              "                       random_state=2022)</pre></div></div></div></div></div></div></div></div></div></div>"
            ]
          },
          "metadata": {},
          "execution_count": 81
        }
      ]
    },
    {
      "cell_type": "code",
      "source": [],
      "metadata": {
        "id": "h_5dbBY8fVaa"
      },
      "execution_count": null,
      "outputs": []
    },
    {
      "cell_type": "code",
      "source": [
        "mscore(ada_boost)"
      ],
      "metadata": {
        "colab": {
          "base_uri": "https://localhost:8080/"
        },
        "id": "htB9Qc7bfXpU",
        "outputId": "559b8750-f9eb-4980-c873-5be0885b0a1c"
      },
      "execution_count": null,
      "outputs": [
        {
          "output_type": "stream",
          "name": "stdout",
          "text": [
            "Training Score 1.0\n",
            "Testing Score 0.9659574468085106\n"
          ]
        }
      ]
    },
    {
      "cell_type": "code",
      "source": [
        "ypred = ada_boost.predict(x_test)\n",
        "print(len(ypred))\n",
        "print(ypred)"
      ],
      "metadata": {
        "colab": {
          "base_uri": "https://localhost:8080/"
        },
        "id": "qzj-NlQafd1V",
        "outputId": "301fe912-1022-4b22-e667-a780b50ae4a4"
      },
      "execution_count": null,
      "outputs": [
        {
          "output_type": "stream",
          "name": "stdout",
          "text": [
            "235\n",
            "[0 0 0 0 0 0 0 0 0 0 0 0 0 0 0 0 0 0 0 1 0 0 0 0 0 0 0 0 0 0 0 0 0 0 0 0 0\n",
            " 0 0 0 0 0 0 0 0 0 0 0 1 0 0 0 0 0 0 0 0 0 0 0 0 0 0 0 0 0 0 0 0 0 0 0 0 0\n",
            " 0 0 0 0 0 0 0 0 0 0 0 0 0 0 0 0 0 0 0 0 0 0 0 0 0 0 0 0 0 0 0 0 0 0 0 0 0\n",
            " 0 0 0 0 0 0 0 0 0 0 0 0 0 0 0 0 0 0 0 0 0 0 0 0 0 0 0 0 0 0 0 0 0 0 0 0 0\n",
            " 0 0 0 0 0 0 0 0 0 0 0 0 0 1 0 0 0 0 0 0 0 0 0 0 0 0 0 0 0 0 0 0 0 0 0 0 0\n",
            " 0 0 0 0 0 0 0 0 0 0 0 0 0 0 0 0 0 0 0 0 1 0 0 0 0 0 0 0 0 0 0 0 0 0 0 0 0\n",
            " 0 0 0 0 0 0 0 0 0 0 0 0 0]\n"
          ]
        }
      ]
    },
    {
      "cell_type": "code",
      "source": [
        "cls_eval(y_test,ypred)"
      ],
      "metadata": {
        "colab": {
          "base_uri": "https://localhost:8080/"
        },
        "id": "qqFTT8a5fg38",
        "outputId": "155c86ad-fa52-4da8-8148-da88801e31d0"
      },
      "execution_count": null,
      "outputs": [
        {
          "output_type": "stream",
          "name": "stdout",
          "text": [
            "[[224   1]\n",
            " [  7   3]]\n",
            "Accuracy Score 0.9659574468085106\n",
            "              precision    recall  f1-score   support\n",
            "\n",
            "           0       0.97      1.00      0.98       225\n",
            "           1       0.75      0.30      0.43        10\n",
            "\n",
            "    accuracy                           0.97       235\n",
            "   macro avg       0.86      0.65      0.71       235\n",
            "weighted avg       0.96      0.97      0.96       235\n",
            "\n"
          ]
        }
      ]
    },
    {
      "cell_type": "code",
      "source": [
        "print(x_train.shape)\n",
        "print(x_test.shape)\n",
        "print(X.shape)\n",
        "print(y.shape)"
      ],
      "metadata": {
        "colab": {
          "base_uri": "https://localhost:8080/"
        },
        "id": "90faFadkfrko",
        "outputId": "ce60f819-5016-4c40-dd99-a86e2616e7ec"
      },
      "execution_count": null,
      "outputs": [
        {
          "output_type": "stream",
          "name": "stdout",
          "text": [
            "(702, 49)\n",
            "(235, 49)\n",
            "(937, 49)\n",
            "(937,)\n"
          ]
        }
      ]
    },
    {
      "cell_type": "code",
      "source": [
        "#generating prediction on test data\n",
        "ypred = ada_boost.predict(X)"
      ],
      "metadata": {
        "id": "GXWbNUa6fvB-"
      },
      "execution_count": null,
      "outputs": []
    },
    {
      "cell_type": "code",
      "source": [
        "import joblib"
      ],
      "metadata": {
        "id": "mcwJap1vfxqo"
      },
      "execution_count": null,
      "outputs": []
    },
    {
      "cell_type": "code",
      "source": [
        "# Save the best model\n",
        "joblib.dump(ada_boost, \"ada_boost.pkl\")\n"
      ],
      "metadata": {
        "colab": {
          "base_uri": "https://localhost:8080/"
        },
        "id": "auNkQhChf1Or",
        "outputId": "adb06386-0191-439a-e2fc-d7aada5742dd"
      },
      "execution_count": null,
      "outputs": [
        {
          "output_type": "execute_result",
          "data": {
            "text/plain": [
              "['ada_boost.pkl']"
            ]
          },
          "metadata": {},
          "execution_count": 88
        }
      ]
    },
    {
      "cell_type": "code",
      "source": [
        "import random"
      ],
      "metadata": {
        "id": "gdSiTY-2f4X8"
      },
      "execution_count": null,
      "outputs": []
    },
    {
      "cell_type": "code",
      "source": [
        "#  Create a new df with 20 random data points from the oil spill df\n",
        "oil_spill_data = oil_spill_dataset[oil_spill_dataset[\"target\"] == 1]\n",
        "random_data = oil_spill_dataset.sample(n=20, random_state=40)\n",
        "print(random_data.columns)"
      ],
      "metadata": {
        "colab": {
          "base_uri": "https://localhost:8080/"
        },
        "id": "zPBz-S_7f7xj",
        "outputId": "f4589382-fc0c-4a17-c1b7-72d75d97c685"
      },
      "execution_count": null,
      "outputs": [
        {
          "output_type": "stream",
          "name": "stdout",
          "text": [
            "Index(['f_1', 'f_2', 'f_3', 'f_4', 'f_5', 'f_6', 'f_7', 'f_8', 'f_9', 'f_10',\n",
            "       'f_11', 'f_12', 'f_13', 'f_14', 'f_15', 'f_16', 'f_17', 'f_18', 'f_19',\n",
            "       'f_20', 'f_21', 'f_22', 'f_23', 'f_24', 'f_25', 'f_26', 'f_27', 'f_28',\n",
            "       'f_29', 'f_30', 'f_31', 'f_32', 'f_33', 'f_34', 'f_35', 'f_36', 'f_37',\n",
            "       'f_38', 'f_39', 'f_40', 'f_41', 'f_42', 'f_43', 'f_44', 'f_45', 'f_46',\n",
            "       'f_47', 'f_48', 'f_49', 'target'],\n",
            "      dtype='object')\n"
          ]
        }
      ]
    },
    {
      "cell_type": "code",
      "source": [
        "# Apply the saved model to predict the target column for the new df\n",
        "new_dataset = random_data.drop(\"target\", axis=1)"
      ],
      "metadata": {
        "id": "HJ3KiC_uf9E2"
      },
      "execution_count": null,
      "outputs": []
    },
    {
      "cell_type": "code",
      "source": [
        "new_dataset.to_csv('sample.csv')"
      ],
      "metadata": {
        "id": "RkBcuTYkgD0W"
      },
      "execution_count": null,
      "outputs": []
    },
    {
      "cell_type": "code",
      "source": [
        "sample_data = pd.read_csv(\"sample.csv\")\n",
        "sample_data.shape"
      ],
      "metadata": {
        "colab": {
          "base_uri": "https://localhost:8080/"
        },
        "id": "FqUttUAVgHCa",
        "outputId": "4434850a-de2f-44f4-8ddd-1764c8648c46"
      },
      "execution_count": null,
      "outputs": [
        {
          "output_type": "execute_result",
          "data": {
            "text/plain": [
              "(20, 50)"
            ]
          },
          "metadata": {},
          "execution_count": 93
        }
      ]
    },
    {
      "cell_type": "code",
      "source": [
        "sample_data.head()"
      ],
      "metadata": {
        "colab": {
          "base_uri": "https://localhost:8080/",
          "height": 235
        },
        "id": "THCRguSlgKVa",
        "outputId": "7372369f-a6f5-4cef-a2a1-61b393509235"
      },
      "execution_count": null,
      "outputs": [
        {
          "output_type": "execute_result",
          "data": {
            "text/plain": [
              "   Unnamed: 0  f_1  f_2      f_3      f_4  f_5     f_6    f_7    f_8     f_9  \\\n",
              "0          85   75  109  1583.82  1301.25   48  272500  35.47  10.74  3600.0   \n",
              "1         426  179   65  1527.91   886.32   90  162500  42.45  11.09  2100.0   \n",
              "2         498    4  459    49.15   230.55   92  645468  27.07  14.57  6797.0   \n",
              "3         918  186   10    74.00    21.20   64   81000  55.00   6.98   794.0   \n",
              "4         768   36   19    49.05   399.26   64  153900  54.79   8.52  1805.0   \n",
              "\n",
              "   ...  f_40     f_41    f_42    f_43    f_44   f_45  f_46      f_47   f_48  \\\n",
              "0  ...    55   921.95  672.68  313.73  186.47   2.94     0   3642.72  66.19   \n",
              "1  ...    63   200.00  250.00  225.00   28.87   0.89     0   7469.27  65.94   \n",
              "2  ...    86  2101.34  412.50  222.99   87.70   9.42     1  16373.66  35.96   \n",
              "3  ...    50   402.49  180.00   90.00   73.48   4.47     0  13154.56  65.39   \n",
              "4  ...    50   886.40   90.00   70.00   39.69  12.66     1   2525.72  65.88   \n",
              "\n",
              "    f_49  \n",
              "0   7.84  \n",
              "1   7.84  \n",
              "2  15.35  \n",
              "3   6.68  \n",
              "4   6.22  \n",
              "\n",
              "[5 rows x 50 columns]"
            ],
            "text/html": [
              "\n",
              "  <div id=\"df-7929e246-0522-46be-b2d6-e5801486f24c\">\n",
              "    <div class=\"colab-df-container\">\n",
              "      <div>\n",
              "<style scoped>\n",
              "    .dataframe tbody tr th:only-of-type {\n",
              "        vertical-align: middle;\n",
              "    }\n",
              "\n",
              "    .dataframe tbody tr th {\n",
              "        vertical-align: top;\n",
              "    }\n",
              "\n",
              "    .dataframe thead th {\n",
              "        text-align: right;\n",
              "    }\n",
              "</style>\n",
              "<table border=\"1\" class=\"dataframe\">\n",
              "  <thead>\n",
              "    <tr style=\"text-align: right;\">\n",
              "      <th></th>\n",
              "      <th>Unnamed: 0</th>\n",
              "      <th>f_1</th>\n",
              "      <th>f_2</th>\n",
              "      <th>f_3</th>\n",
              "      <th>f_4</th>\n",
              "      <th>f_5</th>\n",
              "      <th>f_6</th>\n",
              "      <th>f_7</th>\n",
              "      <th>f_8</th>\n",
              "      <th>f_9</th>\n",
              "      <th>...</th>\n",
              "      <th>f_40</th>\n",
              "      <th>f_41</th>\n",
              "      <th>f_42</th>\n",
              "      <th>f_43</th>\n",
              "      <th>f_44</th>\n",
              "      <th>f_45</th>\n",
              "      <th>f_46</th>\n",
              "      <th>f_47</th>\n",
              "      <th>f_48</th>\n",
              "      <th>f_49</th>\n",
              "    </tr>\n",
              "  </thead>\n",
              "  <tbody>\n",
              "    <tr>\n",
              "      <th>0</th>\n",
              "      <td>85</td>\n",
              "      <td>75</td>\n",
              "      <td>109</td>\n",
              "      <td>1583.82</td>\n",
              "      <td>1301.25</td>\n",
              "      <td>48</td>\n",
              "      <td>272500</td>\n",
              "      <td>35.47</td>\n",
              "      <td>10.74</td>\n",
              "      <td>3600.0</td>\n",
              "      <td>...</td>\n",
              "      <td>55</td>\n",
              "      <td>921.95</td>\n",
              "      <td>672.68</td>\n",
              "      <td>313.73</td>\n",
              "      <td>186.47</td>\n",
              "      <td>2.94</td>\n",
              "      <td>0</td>\n",
              "      <td>3642.72</td>\n",
              "      <td>66.19</td>\n",
              "      <td>7.84</td>\n",
              "    </tr>\n",
              "    <tr>\n",
              "      <th>1</th>\n",
              "      <td>426</td>\n",
              "      <td>179</td>\n",
              "      <td>65</td>\n",
              "      <td>1527.91</td>\n",
              "      <td>886.32</td>\n",
              "      <td>90</td>\n",
              "      <td>162500</td>\n",
              "      <td>42.45</td>\n",
              "      <td>11.09</td>\n",
              "      <td>2100.0</td>\n",
              "      <td>...</td>\n",
              "      <td>63</td>\n",
              "      <td>200.00</td>\n",
              "      <td>250.00</td>\n",
              "      <td>225.00</td>\n",
              "      <td>28.87</td>\n",
              "      <td>0.89</td>\n",
              "      <td>0</td>\n",
              "      <td>7469.27</td>\n",
              "      <td>65.94</td>\n",
              "      <td>7.84</td>\n",
              "    </tr>\n",
              "    <tr>\n",
              "      <th>2</th>\n",
              "      <td>498</td>\n",
              "      <td>4</td>\n",
              "      <td>459</td>\n",
              "      <td>49.15</td>\n",
              "      <td>230.55</td>\n",
              "      <td>92</td>\n",
              "      <td>645468</td>\n",
              "      <td>27.07</td>\n",
              "      <td>14.57</td>\n",
              "      <td>6797.0</td>\n",
              "      <td>...</td>\n",
              "      <td>86</td>\n",
              "      <td>2101.34</td>\n",
              "      <td>412.50</td>\n",
              "      <td>222.99</td>\n",
              "      <td>87.70</td>\n",
              "      <td>9.42</td>\n",
              "      <td>1</td>\n",
              "      <td>16373.66</td>\n",
              "      <td>35.96</td>\n",
              "      <td>15.35</td>\n",
              "    </tr>\n",
              "    <tr>\n",
              "      <th>3</th>\n",
              "      <td>918</td>\n",
              "      <td>186</td>\n",
              "      <td>10</td>\n",
              "      <td>74.00</td>\n",
              "      <td>21.20</td>\n",
              "      <td>64</td>\n",
              "      <td>81000</td>\n",
              "      <td>55.00</td>\n",
              "      <td>6.98</td>\n",
              "      <td>794.0</td>\n",
              "      <td>...</td>\n",
              "      <td>50</td>\n",
              "      <td>402.49</td>\n",
              "      <td>180.00</td>\n",
              "      <td>90.00</td>\n",
              "      <td>73.48</td>\n",
              "      <td>4.47</td>\n",
              "      <td>0</td>\n",
              "      <td>13154.56</td>\n",
              "      <td>65.39</td>\n",
              "      <td>6.68</td>\n",
              "    </tr>\n",
              "    <tr>\n",
              "      <th>4</th>\n",
              "      <td>768</td>\n",
              "      <td>36</td>\n",
              "      <td>19</td>\n",
              "      <td>49.05</td>\n",
              "      <td>399.26</td>\n",
              "      <td>64</td>\n",
              "      <td>153900</td>\n",
              "      <td>54.79</td>\n",
              "      <td>8.52</td>\n",
              "      <td>1805.0</td>\n",
              "      <td>...</td>\n",
              "      <td>50</td>\n",
              "      <td>886.40</td>\n",
              "      <td>90.00</td>\n",
              "      <td>70.00</td>\n",
              "      <td>39.69</td>\n",
              "      <td>12.66</td>\n",
              "      <td>1</td>\n",
              "      <td>2525.72</td>\n",
              "      <td>65.88</td>\n",
              "      <td>6.22</td>\n",
              "    </tr>\n",
              "  </tbody>\n",
              "</table>\n",
              "<p>5 rows × 50 columns</p>\n",
              "</div>\n",
              "      <button class=\"colab-df-convert\" onclick=\"convertToInteractive('df-7929e246-0522-46be-b2d6-e5801486f24c')\"\n",
              "              title=\"Convert this dataframe to an interactive table.\"\n",
              "              style=\"display:none;\">\n",
              "        \n",
              "  <svg xmlns=\"http://www.w3.org/2000/svg\" height=\"24px\"viewBox=\"0 0 24 24\"\n",
              "       width=\"24px\">\n",
              "    <path d=\"M0 0h24v24H0V0z\" fill=\"none\"/>\n",
              "    <path d=\"M18.56 5.44l.94 2.06.94-2.06 2.06-.94-2.06-.94-.94-2.06-.94 2.06-2.06.94zm-11 1L8.5 8.5l.94-2.06 2.06-.94-2.06-.94L8.5 2.5l-.94 2.06-2.06.94zm10 10l.94 2.06.94-2.06 2.06-.94-2.06-.94-.94-2.06-.94 2.06-2.06.94z\"/><path d=\"M17.41 7.96l-1.37-1.37c-.4-.4-.92-.59-1.43-.59-.52 0-1.04.2-1.43.59L10.3 9.45l-7.72 7.72c-.78.78-.78 2.05 0 2.83L4 21.41c.39.39.9.59 1.41.59.51 0 1.02-.2 1.41-.59l7.78-7.78 2.81-2.81c.8-.78.8-2.07 0-2.86zM5.41 20L4 18.59l7.72-7.72 1.47 1.35L5.41 20z\"/>\n",
              "  </svg>\n",
              "      </button>\n",
              "      \n",
              "  <style>\n",
              "    .colab-df-container {\n",
              "      display:flex;\n",
              "      flex-wrap:wrap;\n",
              "      gap: 12px;\n",
              "    }\n",
              "\n",
              "    .colab-df-convert {\n",
              "      background-color: #E8F0FE;\n",
              "      border: none;\n",
              "      border-radius: 50%;\n",
              "      cursor: pointer;\n",
              "      display: none;\n",
              "      fill: #1967D2;\n",
              "      height: 32px;\n",
              "      padding: 0 0 0 0;\n",
              "      width: 32px;\n",
              "    }\n",
              "\n",
              "    .colab-df-convert:hover {\n",
              "      background-color: #E2EBFA;\n",
              "      box-shadow: 0px 1px 2px rgba(60, 64, 67, 0.3), 0px 1px 3px 1px rgba(60, 64, 67, 0.15);\n",
              "      fill: #174EA6;\n",
              "    }\n",
              "\n",
              "    [theme=dark] .colab-df-convert {\n",
              "      background-color: #3B4455;\n",
              "      fill: #D2E3FC;\n",
              "    }\n",
              "\n",
              "    [theme=dark] .colab-df-convert:hover {\n",
              "      background-color: #434B5C;\n",
              "      box-shadow: 0px 1px 3px 1px rgba(0, 0, 0, 0.15);\n",
              "      filter: drop-shadow(0px 1px 2px rgba(0, 0, 0, 0.3));\n",
              "      fill: #FFFFFF;\n",
              "    }\n",
              "  </style>\n",
              "\n",
              "      <script>\n",
              "        const buttonEl =\n",
              "          document.querySelector('#df-7929e246-0522-46be-b2d6-e5801486f24c button.colab-df-convert');\n",
              "        buttonEl.style.display =\n",
              "          google.colab.kernel.accessAllowed ? 'block' : 'none';\n",
              "\n",
              "        async function convertToInteractive(key) {\n",
              "          const element = document.querySelector('#df-7929e246-0522-46be-b2d6-e5801486f24c');\n",
              "          const dataTable =\n",
              "            await google.colab.kernel.invokeFunction('convertToInteractive',\n",
              "                                                     [key], {});\n",
              "          if (!dataTable) return;\n",
              "\n",
              "          const docLinkHtml = 'Like what you see? Visit the ' +\n",
              "            '<a target=\"_blank\" href=https://colab.research.google.com/notebooks/data_table.ipynb>data table notebook</a>'\n",
              "            + ' to learn more about interactive tables.';\n",
              "          element.innerHTML = '';\n",
              "          dataTable['output_type'] = 'display_data';\n",
              "          await google.colab.output.renderOutput(dataTable, element);\n",
              "          const docLink = document.createElement('div');\n",
              "          docLink.innerHTML = docLinkHtml;\n",
              "          element.appendChild(docLink);\n",
              "        }\n",
              "      </script>\n",
              "    </div>\n",
              "  </div>\n",
              "  "
            ]
          },
          "metadata": {},
          "execution_count": 94
        }
      ]
    },
    {
      "cell_type": "code",
      "source": [
        "sample_data.columns"
      ],
      "metadata": {
        "colab": {
          "base_uri": "https://localhost:8080/"
        },
        "id": "grpKS3kBgNMV",
        "outputId": "2745e8da-32b0-4429-87ff-a6771bd5b959"
      },
      "execution_count": null,
      "outputs": [
        {
          "output_type": "execute_result",
          "data": {
            "text/plain": [
              "Index(['Unnamed: 0', 'f_1', 'f_2', 'f_3', 'f_4', 'f_5', 'f_6', 'f_7', 'f_8',\n",
              "       'f_9', 'f_10', 'f_11', 'f_12', 'f_13', 'f_14', 'f_15', 'f_16', 'f_17',\n",
              "       'f_18', 'f_19', 'f_20', 'f_21', 'f_22', 'f_23', 'f_24', 'f_25', 'f_26',\n",
              "       'f_27', 'f_28', 'f_29', 'f_30', 'f_31', 'f_32', 'f_33', 'f_34', 'f_35',\n",
              "       'f_36', 'f_37', 'f_38', 'f_39', 'f_40', 'f_41', 'f_42', 'f_43', 'f_44',\n",
              "       'f_45', 'f_46', 'f_47', 'f_48', 'f_49'],\n",
              "      dtype='object')"
            ]
          },
          "metadata": {},
          "execution_count": 95
        }
      ]
    },
    {
      "cell_type": "code",
      "source": [
        "sample_data= sample_data.drop(\"Unnamed: 0\", axis=1)"
      ],
      "metadata": {
        "id": "sNPr2SZ4gRTA"
      },
      "execution_count": null,
      "outputs": []
    },
    {
      "cell_type": "code",
      "source": [
        "# Load the saved model\n",
        "loaded_model = joblib.load(\"ada_boost.pkl\")"
      ],
      "metadata": {
        "id": "0NjjH8AQgUFk"
      },
      "execution_count": null,
      "outputs": []
    },
    {
      "cell_type": "code",
      "source": [
        "# Apply the saved model to predict the target column for the new df\n",
        "predictions_new_data = loaded_model.predict(sample_data)\n",
        "print(predictions_new_data)"
      ],
      "metadata": {
        "colab": {
          "base_uri": "https://localhost:8080/"
        },
        "id": "PvaB_SgRgW1d",
        "outputId": "2d47e8b8-0ce4-4912-f565-4e95410f132b"
      },
      "execution_count": null,
      "outputs": [
        {
          "output_type": "stream",
          "name": "stdout",
          "text": [
            "[0 0 0 0 0 0 0 0 0 0 0 0 0 0 0 0 0 0 0 0]\n"
          ]
        }
      ]
    },
    {
      "cell_type": "code",
      "source": [
        "# Apply the saved model to predict the target column for the new df\n",
        "predictions_new_data = loaded_model.predict(sample_data)\n",
        "print(predictions_new_data)"
      ],
      "metadata": {
        "colab": {
          "base_uri": "https://localhost:8080/"
        },
        "id": "AVbHlL8cf_L4",
        "outputId": "70c05200-dd39-49b4-f700-cb75813f78e6"
      },
      "execution_count": null,
      "outputs": [
        {
          "output_type": "stream",
          "name": "stdout",
          "text": [
            "[0 0 0 0 0 0 0 0 0 0 0 0 0 0 0 0 0 0 0 0]\n"
          ]
        }
      ]
    }
  ]
}